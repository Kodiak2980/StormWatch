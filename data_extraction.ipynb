{
 "cells": [
  {
   "cell_type": "code",
   "execution_count": 1,
   "metadata": {},
   "outputs": [],
   "source": [
    "import pandas as pd\n",
    "\n",
    "data = pd.read_csv('data.csv', usecols=['st', 'yr', 'mo', 'date', 'slat', 'slon', 'mag'])"
   ]
  },
  {
   "cell_type": "code",
   "execution_count": 2,
   "metadata": {},
   "outputs": [
    {
     "data": {
      "text/plain": [
       "(60114, 7)"
      ]
     },
     "execution_count": 2,
     "metadata": {},
     "output_type": "execute_result"
    }
   ],
   "source": [
    "data.shape"
   ]
  },
  {
   "cell_type": "code",
   "execution_count": 4,
   "metadata": {},
   "outputs": [
    {
     "data": {
      "text/html": [
       "<div>\n",
       "<style scoped>\n",
       "    .dataframe tbody tr th:only-of-type {\n",
       "        vertical-align: middle;\n",
       "    }\n",
       "\n",
       "    .dataframe tbody tr th {\n",
       "        vertical-align: top;\n",
       "    }\n",
       "\n",
       "    .dataframe thead th {\n",
       "        text-align: right;\n",
       "    }\n",
       "</style>\n",
       "<table border=\"1\" class=\"dataframe\">\n",
       "  <thead>\n",
       "    <tr style=\"text-align: right;\">\n",
       "      <th></th>\n",
       "      <th>yr</th>\n",
       "      <th>mo</th>\n",
       "      <th>date</th>\n",
       "      <th>st</th>\n",
       "      <th>mag</th>\n",
       "      <th>slat</th>\n",
       "      <th>slon</th>\n",
       "    </tr>\n",
       "  </thead>\n",
       "  <tbody>\n",
       "    <tr>\n",
       "      <th>54495</th>\n",
       "      <td>2011</td>\n",
       "      <td>5</td>\n",
       "      <td>2011-05-21</td>\n",
       "      <td>OK</td>\n",
       "      <td>0</td>\n",
       "      <td>34.78</td>\n",
       "      <td>-96.89</td>\n",
       "    </tr>\n",
       "    <tr>\n",
       "      <th>20215</th>\n",
       "      <td>1980</td>\n",
       "      <td>3</td>\n",
       "      <td>1980-03-18</td>\n",
       "      <td>PA</td>\n",
       "      <td>1</td>\n",
       "      <td>41.55</td>\n",
       "      <td>-76.78</td>\n",
       "    </tr>\n",
       "    <tr>\n",
       "      <th>21140</th>\n",
       "      <td>1981</td>\n",
       "      <td>4</td>\n",
       "      <td>1981-04-13</td>\n",
       "      <td>IL</td>\n",
       "      <td>1</td>\n",
       "      <td>40.40</td>\n",
       "      <td>-90.15</td>\n",
       "    </tr>\n",
       "    <tr>\n",
       "      <th>2582</th>\n",
       "      <td>1959</td>\n",
       "      <td>6</td>\n",
       "      <td>1959-06-25</td>\n",
       "      <td>MN</td>\n",
       "      <td>1</td>\n",
       "      <td>43.72</td>\n",
       "      <td>-92.92</td>\n",
       "    </tr>\n",
       "    <tr>\n",
       "      <th>4550</th>\n",
       "      <td>1952</td>\n",
       "      <td>4</td>\n",
       "      <td>1952-04-05</td>\n",
       "      <td>NC</td>\n",
       "      <td>2</td>\n",
       "      <td>35.80</td>\n",
       "      <td>-78.88</td>\n",
       "    </tr>\n",
       "    <tr>\n",
       "      <th>17164</th>\n",
       "      <td>1975</td>\n",
       "      <td>4</td>\n",
       "      <td>1975-04-23</td>\n",
       "      <td>MO</td>\n",
       "      <td>3</td>\n",
       "      <td>39.73</td>\n",
       "      <td>-93.35</td>\n",
       "    </tr>\n",
       "    <tr>\n",
       "      <th>21761</th>\n",
       "      <td>1981</td>\n",
       "      <td>8</td>\n",
       "      <td>1981-08-31</td>\n",
       "      <td>TX</td>\n",
       "      <td>1</td>\n",
       "      <td>29.17</td>\n",
       "      <td>-95.67</td>\n",
       "    </tr>\n",
       "    <tr>\n",
       "      <th>23912</th>\n",
       "      <td>1988</td>\n",
       "      <td>4</td>\n",
       "      <td>1988-04-21</td>\n",
       "      <td>CO</td>\n",
       "      <td>0</td>\n",
       "      <td>39.92</td>\n",
       "      <td>-105.00</td>\n",
       "    </tr>\n",
       "    <tr>\n",
       "      <th>31734</th>\n",
       "      <td>1992</td>\n",
       "      <td>9</td>\n",
       "      <td>1992-09-21</td>\n",
       "      <td>PA</td>\n",
       "      <td>0</td>\n",
       "      <td>41.45</td>\n",
       "      <td>-80.22</td>\n",
       "    </tr>\n",
       "    <tr>\n",
       "      <th>56523</th>\n",
       "      <td>2013</td>\n",
       "      <td>5</td>\n",
       "      <td>2013-05-28</td>\n",
       "      <td>KS</td>\n",
       "      <td>3</td>\n",
       "      <td>39.04</td>\n",
       "      <td>-97.71</td>\n",
       "    </tr>\n",
       "  </tbody>\n",
       "</table>\n",
       "</div>"
      ],
      "text/plain": [
       "         yr  mo        date  st  mag   slat    slon\n",
       "54495  2011   5  2011-05-21  OK    0  34.78  -96.89\n",
       "20215  1980   3  1980-03-18  PA    1  41.55  -76.78\n",
       "21140  1981   4  1981-04-13  IL    1  40.40  -90.15\n",
       "2582   1959   6  1959-06-25  MN    1  43.72  -92.92\n",
       "4550   1952   4  1952-04-05  NC    2  35.80  -78.88\n",
       "17164  1975   4  1975-04-23  MO    3  39.73  -93.35\n",
       "21761  1981   8  1981-08-31  TX    1  29.17  -95.67\n",
       "23912  1988   4  1988-04-21  CO    0  39.92 -105.00\n",
       "31734  1992   9  1992-09-21  PA    0  41.45  -80.22\n",
       "56523  2013   5  2013-05-28  KS    3  39.04  -97.71"
      ]
     },
     "execution_count": 4,
     "metadata": {},
     "output_type": "execute_result"
    }
   ],
   "source": [
    "data.sample(10)"
   ]
  },
  {
   "cell_type": "code",
   "execution_count": 5,
   "metadata": {},
   "outputs": [],
   "source": [
    "data.to_csv(r'specific_data.csv')"
   ]
  },
  {
   "cell_type": "code",
   "execution_count": 6,
   "metadata": {},
   "outputs": [],
   "source": [
    "data1 = data.head(50)\n",
    "data1.to_csv(r'specific_data1.csv')"
   ]
  },
  {
   "cell_type": "code",
   "execution_count": null,
   "metadata": {},
   "outputs": [],
   "source": []
  }
 ],
 "metadata": {
  "kernelspec": {
   "display_name": "Python 3",
   "language": "python",
   "name": "python3"
  },
  "language_info": {
   "codemirror_mode": {
    "name": "ipython",
    "version": 3
   },
   "file_extension": ".py",
   "mimetype": "text/x-python",
   "name": "python",
   "nbconvert_exporter": "python",
   "pygments_lexer": "ipython3",
   "version": "3.7.2"
  }
 },
 "nbformat": 4,
 "nbformat_minor": 2
}
